{
 "cells": [
  {
   "cell_type": "markdown",
   "id": "71bad431-8256-44ce-967d-ecfe3c8fc952",
   "metadata": {},
   "source": [
    "# Домашнее задание\n",
    "## Изучение базовых возможностей библиотеки Pandas\n",
    "\n",
    "Для примера используется датасет с рекомендациями по японским мульфильмам в формате csv.\n",
    "\n",
    "### Получение информации из .csv\n",
    "\n",
    "Для начала считаем информацию из датасета:"
   ]
  },
  {
   "cell_type": "code",
   "execution_count": 109,
   "id": "3e23b605-cdf7-446c-8c3a-f202e48cea9a",
   "metadata": {
    "scrolled": true
   },
   "outputs": [
    {
     "data": {
      "text/html": [
       "<div>\n",
       "<style scoped>\n",
       "    .dataframe tbody tr th:only-of-type {\n",
       "        vertical-align: middle;\n",
       "    }\n",
       "\n",
       "    .dataframe tbody tr th {\n",
       "        vertical-align: top;\n",
       "    }\n",
       "\n",
       "    .dataframe thead th {\n",
       "        text-align: right;\n",
       "    }\n",
       "</style>\n",
       "<table border=\"1\" class=\"dataframe\">\n",
       "  <thead>\n",
       "    <tr style=\"text-align: right;\">\n",
       "      <th></th>\n",
       "      <th>anime_id</th>\n",
       "      <th>name</th>\n",
       "      <th>genre</th>\n",
       "      <th>type</th>\n",
       "      <th>episodes</th>\n",
       "      <th>rating</th>\n",
       "      <th>members</th>\n",
       "    </tr>\n",
       "  </thead>\n",
       "  <tbody>\n",
       "    <tr>\n",
       "      <th>0</th>\n",
       "      <td>32281</td>\n",
       "      <td>Kimi no Na wa.</td>\n",
       "      <td>Drama, Romance, School, Supernatural</td>\n",
       "      <td>Movie</td>\n",
       "      <td>1</td>\n",
       "      <td>9.37</td>\n",
       "      <td>200630</td>\n",
       "    </tr>\n",
       "    <tr>\n",
       "      <th>1</th>\n",
       "      <td>5114</td>\n",
       "      <td>Fullmetal Alchemist: Brotherhood</td>\n",
       "      <td>Action, Adventure, Drama, Fantasy, Magic, Mili...</td>\n",
       "      <td>TV</td>\n",
       "      <td>64</td>\n",
       "      <td>9.26</td>\n",
       "      <td>793665</td>\n",
       "    </tr>\n",
       "    <tr>\n",
       "      <th>2</th>\n",
       "      <td>28977</td>\n",
       "      <td>Gintama°</td>\n",
       "      <td>Action, Comedy, Historical, Parody, Samurai, S...</td>\n",
       "      <td>TV</td>\n",
       "      <td>51</td>\n",
       "      <td>9.25</td>\n",
       "      <td>114262</td>\n",
       "    </tr>\n",
       "    <tr>\n",
       "      <th>3</th>\n",
       "      <td>9253</td>\n",
       "      <td>Steins;Gate</td>\n",
       "      <td>Sci-Fi, Thriller</td>\n",
       "      <td>TV</td>\n",
       "      <td>24</td>\n",
       "      <td>9.17</td>\n",
       "      <td>673572</td>\n",
       "    </tr>\n",
       "    <tr>\n",
       "      <th>4</th>\n",
       "      <td>9969</td>\n",
       "      <td>Gintama&amp;#039;</td>\n",
       "      <td>Action, Comedy, Historical, Parody, Samurai, S...</td>\n",
       "      <td>TV</td>\n",
       "      <td>51</td>\n",
       "      <td>9.16</td>\n",
       "      <td>151266</td>\n",
       "    </tr>\n",
       "  </tbody>\n",
       "</table>\n",
       "</div>"
      ],
      "text/plain": [
       "   anime_id                              name  \\\n",
       "0     32281                    Kimi no Na wa.   \n",
       "1      5114  Fullmetal Alchemist: Brotherhood   \n",
       "2     28977                          Gintama°   \n",
       "3      9253                       Steins;Gate   \n",
       "4      9969                     Gintama&#039;   \n",
       "\n",
       "                                               genre   type episodes  rating  \\\n",
       "0               Drama, Romance, School, Supernatural  Movie        1    9.37   \n",
       "1  Action, Adventure, Drama, Fantasy, Magic, Mili...     TV       64    9.26   \n",
       "2  Action, Comedy, Historical, Parody, Samurai, S...     TV       51    9.25   \n",
       "3                                   Sci-Fi, Thriller     TV       24    9.17   \n",
       "4  Action, Comedy, Historical, Parody, Samurai, S...     TV       51    9.16   \n",
       "\n",
       "   members  \n",
       "0   200630  \n",
       "1   793665  \n",
       "2   114262  \n",
       "3   673572  \n",
       "4   151266  "
      ]
     },
     "execution_count": 109,
     "metadata": {},
     "output_type": "execute_result"
    }
   ],
   "source": [
    "import pandas as pd\n",
    "\n",
    "df = pd.read_csv('animedb.csv')\n",
    "df.head()"
   ]
  },
  {
   "cell_type": "markdown",
   "id": "663ca6c6-1170-4d5e-bad2-9074ad16ce70",
   "metadata": {},
   "source": [
    "### Базовые команды\n",
    "\n",
    "Используя команды **.head()** и **.tail()** имеем возможность выводить первые и последние n элементов.\n",
    "Для того, чтобы узнать больше о выбранном датасете применим команду **.info()**, которое вернет количество строк/столбцов, количество ненулевых значений, объем занимаемой памяти и тому подобное."
   ]
  },
  {
   "cell_type": "code",
   "execution_count": 112,
   "id": "7eb30727-f294-49ea-8126-d2982fc717b8",
   "metadata": {},
   "outputs": [
    {
     "name": "stdout",
     "output_type": "stream",
     "text": [
      "<class 'pandas.core.frame.DataFrame'>\n",
      "RangeIndex: 12294 entries, 0 to 12293\n",
      "Data columns (total 7 columns):\n",
      " #   Column    Non-Null Count  Dtype  \n",
      "---  ------    --------------  -----  \n",
      " 0   anime_id  12294 non-null  int64  \n",
      " 1   name      12294 non-null  object \n",
      " 2   genre     12232 non-null  object \n",
      " 3   type      12269 non-null  object \n",
      " 4   episodes  12294 non-null  object \n",
      " 5   rating    12064 non-null  float64\n",
      " 6   members   12294 non-null  int64  \n",
      "dtypes: float64(1), int64(2), object(4)\n",
      "memory usage: 672.5+ KB\n"
     ]
    }
   ],
   "source": [
    "df.info()"
   ]
  },
  {
   "cell_type": "markdown",
   "id": "d90569fc-291d-4d89-8e1f-dfda4e44cb4c",
   "metadata": {},
   "source": [
    "Можем понять, что некоторые строки у нас имеют нулевые значения, их можно как удалить, так и заполнить какими-либо значениями, например средними по датасету, подробнее это рассмотрим далее.  \n",
    "Если необходимо просто узнать количество строк и столбцов имеется атрибут **.shape**, обратим внимание на отсутствие скобок."
   ]
  },
  {
   "cell_type": "code",
   "execution_count": 115,
   "id": "1dca07e8-ab1a-44ff-bec2-1a8bc610da09",
   "metadata": {},
   "outputs": [
    {
     "data": {
      "text/plain": [
       "(12294, 7)"
      ]
     },
     "execution_count": 115,
     "metadata": {},
     "output_type": "execute_result"
    }
   ],
   "source": [
    "df.shape"
   ]
  },
  {
   "cell_type": "markdown",
   "id": "6ede66a3-0691-4193-b93e-6486f0b98927",
   "metadata": {},
   "source": [
    "Убеждаемся, что наш **DataFrame** имеет 12294 строки и 7 столбцов. **DataFrame** тип данных, который описывает таблицу состоящую хотя бы из 2 столбоцов, для описания одного столбца существует тип данных **Series**. Покажем это:"
   ]
  },
  {
   "cell_type": "code",
   "execution_count": 118,
   "id": "9e7afab3-35d7-4a4f-bcd4-7212d68be2ed",
   "metadata": {},
   "outputs": [
    {
     "name": "stdout",
     "output_type": "stream",
     "text": [
      "<class 'pandas.core.frame.DataFrame'>\n",
      "<class 'pandas.core.series.Series'>\n"
     ]
    },
    {
     "data": {
      "text/plain": [
       "0                      Kimi no Na wa.\n",
       "1    Fullmetal Alchemist: Brotherhood\n",
       "2                            Gintama°\n",
       "3                         Steins;Gate\n",
       "4                       Gintama&#039;\n",
       "Name: name, dtype: object"
      ]
     },
     "execution_count": 118,
     "metadata": {},
     "output_type": "execute_result"
    }
   ],
   "source": [
    "print(type(df))\n",
    "print(type(df[\"name\"]))\n",
    "df[\"name\"].head()"
   ]
  },
  {
   "cell_type": "markdown",
   "id": "d41364b3-4a5f-4cdb-8736-8c8cce9aaa6b",
   "metadata": {},
   "source": [
    "### Обработка дубликатов\n",
    "\n",
    "  В наборе данных важно, чтобы не было дубликатов, которые могут значительно удлинить срок обработки. В нашем наборе данных дубликатов нет, но для примера добавим набор данных к самому себе, используя метод **.concat()**. Он вернет копию, не затрагивая наш оригинал:"
   ]
  },
  {
   "cell_type": "code",
   "execution_count": 121,
   "id": "4703b646-4d34-4e74-bcb6-4b044f9610c8",
   "metadata": {},
   "outputs": [
    {
     "data": {
      "text/plain": [
       "(24588, 7)"
      ]
     },
     "execution_count": 121,
     "metadata": {},
     "output_type": "execute_result"
    }
   ],
   "source": [
    "temp_df = pd.concat([df, df])\n",
    "temp_df.shape"
   ]
  },
  {
   "cell_type": "markdown",
   "id": "35fbc1f7-78d4-4673-ac2f-075c39badac9",
   "metadata": {},
   "source": [
    "Видим, что количество строк удвоилось, теперь попробуем избавиться от дуликатов. Для этого используем метод **.drop_duplicates()**, у него есть именнованный параметр **inplace**, который при значении **inplace=True**, поможет избежать лишнего  самоприсваивания. Другой важный параметр - **keep**, имеет 3 возможные опции:  \n",
    "- **first** - отбросить дубликаты, кроме первого вхождения, параметр по умолчанию.\n",
    "- **last** - отбросить дубликаты, кроме последнего вхождения.\n",
    "- **False** - отбросить все дубликаты.\n",
    "\n",
    "Итак, избавимся от дубликатов:"
   ]
  },
  {
   "cell_type": "code",
   "execution_count": 124,
   "id": "0cf7aeac-8fc1-4331-8897-08d45af38242",
   "metadata": {},
   "outputs": [
    {
     "data": {
      "text/plain": [
       "(12294, 7)"
      ]
     },
     "execution_count": 124,
     "metadata": {},
     "output_type": "execute_result"
    }
   ],
   "source": [
    "temp_df.drop_duplicates(inplace=True)\n",
    "temp_df.shape"
   ]
  },
  {
   "cell_type": "markdown",
   "id": "aa0c0b61-a69b-4ae3-bfa1-db09db0677ee",
   "metadata": {},
   "source": [
    "Успех! Мы избавились от всех копий наших строк.\n",
    "\n",
    "### Чистка столбцов\n",
    "\n",
    "  Часто бывает, что набор данных имеет сомнительные названия столбцов: опечатки, лишние пробелы, верхний и нижный регистр. Это значительно увеличивает шанс неправильно обратиться к столбцу и словить ошибку *KeyError*.  \n",
    "  Все названия столбцов можно получить через атрибут **columns**:"
   ]
  },
  {
   "cell_type": "code",
   "execution_count": 127,
   "id": "86e6232e-e551-4348-a762-e771a05fcbc8",
   "metadata": {},
   "outputs": [
    {
     "data": {
      "text/plain": [
       "Index(['anime_id', 'name', 'genre', 'type', 'episodes', 'rating', 'members'], dtype='object')"
      ]
     },
     "execution_count": 127,
     "metadata": {},
     "output_type": "execute_result"
    }
   ],
   "source": [
    "df.columns"
   ]
  },
  {
   "cell_type": "markdown",
   "id": "adf898a8-900f-4ed7-8e51-d9ad6dfcac18",
   "metadata": {},
   "source": [
    "Названия можно поменять, используя **.rename()**. Для изменения регистра можно использовать тот же **.rename()** или *list comprehension*:"
   ]
  },
  {
   "cell_type": "code",
   "execution_count": 130,
   "id": "5db33f5a-3435-4499-a43b-9e63096122eb",
   "metadata": {},
   "outputs": [
    {
     "data": {
      "text/html": [
       "<div>\n",
       "<style scoped>\n",
       "    .dataframe tbody tr th:only-of-type {\n",
       "        vertical-align: middle;\n",
       "    }\n",
       "\n",
       "    .dataframe tbody tr th {\n",
       "        vertical-align: top;\n",
       "    }\n",
       "\n",
       "    .dataframe thead th {\n",
       "        text-align: right;\n",
       "    }\n",
       "</style>\n",
       "<table border=\"1\" class=\"dataframe\">\n",
       "  <thead>\n",
       "    <tr style=\"text-align: right;\">\n",
       "      <th></th>\n",
       "      <th>anime_id</th>\n",
       "      <th>name_japanese</th>\n",
       "      <th>genre</th>\n",
       "      <th>type</th>\n",
       "      <th>episodes</th>\n",
       "      <th>rating</th>\n",
       "      <th>members</th>\n",
       "    </tr>\n",
       "  </thead>\n",
       "  <tbody>\n",
       "    <tr>\n",
       "      <th>0</th>\n",
       "      <td>32281</td>\n",
       "      <td>Kimi no Na wa.</td>\n",
       "      <td>Drama, Romance, School, Supernatural</td>\n",
       "      <td>Movie</td>\n",
       "      <td>1</td>\n",
       "      <td>9.37</td>\n",
       "      <td>200630</td>\n",
       "    </tr>\n",
       "    <tr>\n",
       "      <th>1</th>\n",
       "      <td>5114</td>\n",
       "      <td>Fullmetal Alchemist: Brotherhood</td>\n",
       "      <td>Action, Adventure, Drama, Fantasy, Magic, Mili...</td>\n",
       "      <td>TV</td>\n",
       "      <td>64</td>\n",
       "      <td>9.26</td>\n",
       "      <td>793665</td>\n",
       "    </tr>\n",
       "    <tr>\n",
       "      <th>2</th>\n",
       "      <td>28977</td>\n",
       "      <td>Gintama°</td>\n",
       "      <td>Action, Comedy, Historical, Parody, Samurai, S...</td>\n",
       "      <td>TV</td>\n",
       "      <td>51</td>\n",
       "      <td>9.25</td>\n",
       "      <td>114262</td>\n",
       "    </tr>\n",
       "  </tbody>\n",
       "</table>\n",
       "</div>"
      ],
      "text/plain": [
       "   anime_id                     name_japanese  \\\n",
       "0     32281                    Kimi no Na wa.   \n",
       "1      5114  Fullmetal Alchemist: Brotherhood   \n",
       "2     28977                          Gintama°   \n",
       "\n",
       "                                               genre   type episodes  rating  \\\n",
       "0               Drama, Romance, School, Supernatural  Movie        1    9.37   \n",
       "1  Action, Adventure, Drama, Fantasy, Magic, Mili...     TV       64    9.26   \n",
       "2  Action, Comedy, Historical, Parody, Samurai, S...     TV       51    9.25   \n",
       "\n",
       "   members  \n",
       "0   200630  \n",
       "1   793665  \n",
       "2   114262  "
      ]
     },
     "execution_count": 130,
     "metadata": {},
     "output_type": "execute_result"
    }
   ],
   "source": [
    "df.rename(columns={\"name\": \"name_japanese\"}, inplace=True)\n",
    "df.head(3)"
   ]
  },
  {
   "cell_type": "code",
   "execution_count": 132,
   "id": "565be01a-58d6-4550-aec2-05ae818eff71",
   "metadata": {},
   "outputs": [
    {
     "data": {
      "text/html": [
       "<div>\n",
       "<style scoped>\n",
       "    .dataframe tbody tr th:only-of-type {\n",
       "        vertical-align: middle;\n",
       "    }\n",
       "\n",
       "    .dataframe tbody tr th {\n",
       "        vertical-align: top;\n",
       "    }\n",
       "\n",
       "    .dataframe thead th {\n",
       "        text-align: right;\n",
       "    }\n",
       "</style>\n",
       "<table border=\"1\" class=\"dataframe\">\n",
       "  <thead>\n",
       "    <tr style=\"text-align: right;\">\n",
       "      <th></th>\n",
       "      <th>ANIME_ID</th>\n",
       "      <th>NAME_JAPANESE</th>\n",
       "      <th>GENRE</th>\n",
       "      <th>TYPE</th>\n",
       "      <th>EPISODES</th>\n",
       "      <th>RATING</th>\n",
       "      <th>MEMBERS</th>\n",
       "    </tr>\n",
       "  </thead>\n",
       "  <tbody>\n",
       "    <tr>\n",
       "      <th>0</th>\n",
       "      <td>32281</td>\n",
       "      <td>Kimi no Na wa.</td>\n",
       "      <td>Drama, Romance, School, Supernatural</td>\n",
       "      <td>Movie</td>\n",
       "      <td>1</td>\n",
       "      <td>9.37</td>\n",
       "      <td>200630</td>\n",
       "    </tr>\n",
       "    <tr>\n",
       "      <th>1</th>\n",
       "      <td>5114</td>\n",
       "      <td>Fullmetal Alchemist: Brotherhood</td>\n",
       "      <td>Action, Adventure, Drama, Fantasy, Magic, Mili...</td>\n",
       "      <td>TV</td>\n",
       "      <td>64</td>\n",
       "      <td>9.26</td>\n",
       "      <td>793665</td>\n",
       "    </tr>\n",
       "    <tr>\n",
       "      <th>2</th>\n",
       "      <td>28977</td>\n",
       "      <td>Gintama°</td>\n",
       "      <td>Action, Comedy, Historical, Parody, Samurai, S...</td>\n",
       "      <td>TV</td>\n",
       "      <td>51</td>\n",
       "      <td>9.25</td>\n",
       "      <td>114262</td>\n",
       "    </tr>\n",
       "  </tbody>\n",
       "</table>\n",
       "</div>"
      ],
      "text/plain": [
       "   ANIME_ID                     NAME_JAPANESE  \\\n",
       "0     32281                    Kimi no Na wa.   \n",
       "1      5114  Fullmetal Alchemist: Brotherhood   \n",
       "2     28977                          Gintama°   \n",
       "\n",
       "                                               GENRE   TYPE EPISODES  RATING  \\\n",
       "0               Drama, Romance, School, Supernatural  Movie        1    9.37   \n",
       "1  Action, Adventure, Drama, Fantasy, Magic, Mili...     TV       64    9.26   \n",
       "2  Action, Comedy, Historical, Parody, Samurai, S...     TV       51    9.25   \n",
       "\n",
       "   MEMBERS  \n",
       "0   200630  \n",
       "1   793665  \n",
       "2   114262  "
      ]
     },
     "execution_count": 132,
     "metadata": {},
     "output_type": "execute_result"
    }
   ],
   "source": [
    "temp_df.columns = [col.upper() for col in df.columns]\n",
    "temp_df.head(3)"
   ]
  },
  {
   "cell_type": "markdown",
   "id": "44050de7-765a-4bb2-91fa-1416eae6081a",
   "metadata": {},
   "source": [
    "Удобнее всего использовать названия в нижнем регистре, без пробелов и специальных символов, за исключением нижнего подчеркивания\n",
    "\n",
    "### Обработка нулевых значений\n",
    "\n",
    "Выше уже было упомянуто, что некоторые значения в строчках были равны нулю (None, np.nan), для работы с ними есть 2 варианта:  \n",
    "1. Удалить строки\n",
    "2. Заполнить средним значением по набору данных  \n",
    "\n",
    "Первым делом проверим какие конкретно строки содержат нулевые значения, посчитаем их общее количество"
   ]
  },
  {
   "cell_type": "code",
   "execution_count": 135,
   "id": "4f08731a-c56a-461b-a7af-b402fd422c14",
   "metadata": {},
   "outputs": [
    {
     "data": {
      "text/html": [
       "<div>\n",
       "<style scoped>\n",
       "    .dataframe tbody tr th:only-of-type {\n",
       "        vertical-align: middle;\n",
       "    }\n",
       "\n",
       "    .dataframe tbody tr th {\n",
       "        vertical-align: top;\n",
       "    }\n",
       "\n",
       "    .dataframe thead th {\n",
       "        text-align: right;\n",
       "    }\n",
       "</style>\n",
       "<table border=\"1\" class=\"dataframe\">\n",
       "  <thead>\n",
       "    <tr style=\"text-align: right;\">\n",
       "      <th></th>\n",
       "      <th>anime_id</th>\n",
       "      <th>name_japanese</th>\n",
       "      <th>genre</th>\n",
       "      <th>type</th>\n",
       "      <th>episodes</th>\n",
       "      <th>rating</th>\n",
       "      <th>members</th>\n",
       "    </tr>\n",
       "  </thead>\n",
       "  <tbody>\n",
       "    <tr>\n",
       "      <th>0</th>\n",
       "      <td>False</td>\n",
       "      <td>False</td>\n",
       "      <td>False</td>\n",
       "      <td>False</td>\n",
       "      <td>False</td>\n",
       "      <td>False</td>\n",
       "      <td>False</td>\n",
       "    </tr>\n",
       "    <tr>\n",
       "      <th>1</th>\n",
       "      <td>False</td>\n",
       "      <td>False</td>\n",
       "      <td>False</td>\n",
       "      <td>False</td>\n",
       "      <td>False</td>\n",
       "      <td>False</td>\n",
       "      <td>False</td>\n",
       "    </tr>\n",
       "    <tr>\n",
       "      <th>2</th>\n",
       "      <td>False</td>\n",
       "      <td>False</td>\n",
       "      <td>False</td>\n",
       "      <td>False</td>\n",
       "      <td>False</td>\n",
       "      <td>False</td>\n",
       "      <td>False</td>\n",
       "    </tr>\n",
       "    <tr>\n",
       "      <th>3</th>\n",
       "      <td>False</td>\n",
       "      <td>False</td>\n",
       "      <td>False</td>\n",
       "      <td>False</td>\n",
       "      <td>False</td>\n",
       "      <td>False</td>\n",
       "      <td>False</td>\n",
       "    </tr>\n",
       "    <tr>\n",
       "      <th>4</th>\n",
       "      <td>False</td>\n",
       "      <td>False</td>\n",
       "      <td>False</td>\n",
       "      <td>False</td>\n",
       "      <td>False</td>\n",
       "      <td>False</td>\n",
       "      <td>False</td>\n",
       "    </tr>\n",
       "    <tr>\n",
       "      <th>...</th>\n",
       "      <td>...</td>\n",
       "      <td>...</td>\n",
       "      <td>...</td>\n",
       "      <td>...</td>\n",
       "      <td>...</td>\n",
       "      <td>...</td>\n",
       "      <td>...</td>\n",
       "    </tr>\n",
       "    <tr>\n",
       "      <th>12289</th>\n",
       "      <td>False</td>\n",
       "      <td>False</td>\n",
       "      <td>False</td>\n",
       "      <td>False</td>\n",
       "      <td>False</td>\n",
       "      <td>False</td>\n",
       "      <td>False</td>\n",
       "    </tr>\n",
       "    <tr>\n",
       "      <th>12290</th>\n",
       "      <td>False</td>\n",
       "      <td>False</td>\n",
       "      <td>False</td>\n",
       "      <td>False</td>\n",
       "      <td>False</td>\n",
       "      <td>False</td>\n",
       "      <td>False</td>\n",
       "    </tr>\n",
       "    <tr>\n",
       "      <th>12291</th>\n",
       "      <td>False</td>\n",
       "      <td>False</td>\n",
       "      <td>False</td>\n",
       "      <td>False</td>\n",
       "      <td>False</td>\n",
       "      <td>False</td>\n",
       "      <td>False</td>\n",
       "    </tr>\n",
       "    <tr>\n",
       "      <th>12292</th>\n",
       "      <td>False</td>\n",
       "      <td>False</td>\n",
       "      <td>False</td>\n",
       "      <td>False</td>\n",
       "      <td>False</td>\n",
       "      <td>False</td>\n",
       "      <td>False</td>\n",
       "    </tr>\n",
       "    <tr>\n",
       "      <th>12293</th>\n",
       "      <td>False</td>\n",
       "      <td>False</td>\n",
       "      <td>False</td>\n",
       "      <td>False</td>\n",
       "      <td>False</td>\n",
       "      <td>False</td>\n",
       "      <td>False</td>\n",
       "    </tr>\n",
       "  </tbody>\n",
       "</table>\n",
       "<p>12294 rows × 7 columns</p>\n",
       "</div>"
      ],
      "text/plain": [
       "       anime_id  name_japanese  genre   type  episodes  rating  members\n",
       "0         False          False  False  False     False   False    False\n",
       "1         False          False  False  False     False   False    False\n",
       "2         False          False  False  False     False   False    False\n",
       "3         False          False  False  False     False   False    False\n",
       "4         False          False  False  False     False   False    False\n",
       "...         ...            ...    ...    ...       ...     ...      ...\n",
       "12289     False          False  False  False     False   False    False\n",
       "12290     False          False  False  False     False   False    False\n",
       "12291     False          False  False  False     False   False    False\n",
       "12292     False          False  False  False     False   False    False\n",
       "12293     False          False  False  False     False   False    False\n",
       "\n",
       "[12294 rows x 7 columns]"
      ]
     },
     "execution_count": 135,
     "metadata": {},
     "output_type": "execute_result"
    }
   ],
   "source": [
    "df.isnull()"
   ]
  },
  {
   "cell_type": "markdown",
   "id": "c58f49f7-7fe5-47c9-a32f-532f70866965",
   "metadata": {},
   "source": [
    "Метод **.isnull()** возвращает *DataFrame*, в котором каждая ячейка *True* или *False* в зависимости от значения.  \n",
    "Чтобы посчитать общее количество *null*-ячеек используем **.sum()**"
   ]
  },
  {
   "cell_type": "code",
   "execution_count": 138,
   "id": "b19c645d-1260-4595-861e-c203150dae38",
   "metadata": {},
   "outputs": [
    {
     "data": {
      "text/plain": [
       "anime_id           0\n",
       "name_japanese      0\n",
       "genre             62\n",
       "type              25\n",
       "episodes           0\n",
       "rating           230\n",
       "members            0\n",
       "dtype: int64"
      ]
     },
     "execution_count": 138,
     "metadata": {},
     "output_type": "execute_result"
    }
   ],
   "source": [
    "df.isnull().sum()"
   ]
  },
  {
   "cell_type": "markdown",
   "id": "9cd96dee-9f27-4f1f-b767-23d703483187",
   "metadata": {},
   "source": [
    "Теперь мы знаем, какие и сколько значений равны *null*.\n",
    "\n",
    "#### Удаление нулых значений\n",
    "\n",
    "Не трудно понять, что удаление строки это довольно расточительный вариант, ведь мы теряем всю информацию из других строчек. Тем не менее мы также рассмотрим его.  \n",
    "Удалить нулевые строки довольно просто, используя **.dropna()**:"
   ]
  },
  {
   "cell_type": "code",
   "execution_count": 141,
   "id": "e6afa106-dec5-4dfb-b1fd-e607a8db67cc",
   "metadata": {},
   "outputs": [
    {
     "data": {
      "text/plain": [
       "anime_id         0\n",
       "name_japanese    0\n",
       "genre            0\n",
       "type             0\n",
       "episodes         0\n",
       "rating           0\n",
       "members          0\n",
       "dtype: int64"
      ]
     },
     "execution_count": 141,
     "metadata": {},
     "output_type": "execute_result"
    }
   ],
   "source": [
    "df.dropna().isnull().sum()"
   ]
  },
  {
   "cell_type": "markdown",
   "id": "e0d99e05-72f2-44f6-9011-415a11ef1609",
   "metadata": {},
   "source": [
    "**.dropna()** также имеет параметр **inplace**, который мы могли бы задать. Помимо удаления строк, можно удалить столбцы, в которых встречаются нулевые значения, задав параметр **axis** равным 1:"
   ]
  },
  {
   "cell_type": "code",
   "execution_count": 144,
   "id": "d37bed84-5de5-45ca-b940-d087482338a9",
   "metadata": {},
   "outputs": [
    {
     "data": {
      "text/plain": [
       "anime_id         0\n",
       "name_japanese    0\n",
       "episodes         0\n",
       "members          0\n",
       "dtype: int64"
      ]
     },
     "execution_count": 144,
     "metadata": {},
     "output_type": "execute_result"
    }
   ],
   "source": [
    "df.dropna(axis=1).isnull().sum()"
   ]
  },
  {
   "cell_type": "markdown",
   "id": "73f2c368-7c34-4f0e-a2cf-b23d04ded90c",
   "metadata": {},
   "source": [
    "Видим, что удалились 3 столбца, в которых содержались нулевые значения.\n",
    "\n",
    "#### Заполнение значениями (импутация)\n",
    "\n",
    "Когда удаление строк или столбцов исключает слишком большой кусок данных, мы можем попробовать заменить *null* другим значением, обычно средним или медианным по столбцу.  \n",
    "Рассмотрим импутацию недостающих значений столбца **rating**. Для начала выделим столбец в отдельную переменную:"
   ]
  },
  {
   "cell_type": "code",
   "execution_count": 147,
   "id": "3683be36-830e-421a-bee7-a345614f5a1f",
   "metadata": {},
   "outputs": [
    {
     "data": {
      "text/plain": [
       "pandas.core.series.Series"
      ]
     },
     "execution_count": 147,
     "metadata": {},
     "output_type": "execute_result"
    }
   ],
   "source": [
    "rating = df[\"rating\"]\n",
    "type(rating)"
   ]
  },
  {
   "cell_type": "markdown",
   "id": "b173bcb7-9a3e-4430-9e7f-d1646ac6eba0",
   "metadata": {},
   "source": [
    "Переменная **rating** имеет тип Series:"
   ]
  },
  {
   "cell_type": "code",
   "execution_count": 150,
   "id": "60fe601b-2346-49dd-9ca7-b53d50337a68",
   "metadata": {},
   "outputs": [
    {
     "data": {
      "text/plain": [
       "0    9.37\n",
       "1    9.26\n",
       "2    9.25\n",
       "3    9.17\n",
       "4    9.16\n",
       "Name: rating, dtype: float64"
      ]
     },
     "execution_count": 150,
     "metadata": {},
     "output_type": "execute_result"
    }
   ],
   "source": [
    "rating.head()"
   ]
  },
  {
   "cell_type": "markdown",
   "id": "5ca39ee3-64fd-48b4-8768-a36e0874f5b9",
   "metadata": {},
   "source": [
    "Пожалуй для заполнения нулевых значений будем использовать среднее значения по всему столбцу. Для начала получим его:"
   ]
  },
  {
   "cell_type": "code",
   "execution_count": 153,
   "id": "f9cc96bf-071a-46e1-978a-e77f1a2d86fd",
   "metadata": {},
   "outputs": [
    {
     "data": {
      "text/plain": [
       "6.473901690981432"
      ]
     },
     "execution_count": 153,
     "metadata": {},
     "output_type": "execute_result"
    }
   ],
   "source": [
    "rating_mean = rating.mean()\n",
    "\n",
    "rating_mean"
   ]
  },
  {
   "cell_type": "markdown",
   "id": "8511e663-3191-499b-b166-8bab94b56b68",
   "metadata": {},
   "source": [
    "Получив среднее значение заполним им нулевые, используя **.fillna()**:"
   ]
  },
  {
   "cell_type": "code",
   "execution_count": 156,
   "id": "becbab98-f583-4d9f-b23d-a3f28078d11b",
   "metadata": {},
   "outputs": [
    {
     "data": {
      "text/plain": [
       "anime_id          0\n",
       "name_japanese     0\n",
       "genre            62\n",
       "type             25\n",
       "episodes          0\n",
       "rating            0\n",
       "members           0\n",
       "dtype: int64"
      ]
     },
     "execution_count": 156,
     "metadata": {},
     "output_type": "execute_result"
    }
   ],
   "source": [
    "rating.fillna(rating_mean, inplace=True)\n",
    "\n",
    "df.isnull().sum()"
   ]
  },
  {
   "cell_type": "markdown",
   "id": "38c643ed-0c6c-4b49-8f03-c7cad331fe20",
   "metadata": {},
   "source": [
    "Видно, что не осталось ни одной строчки, где **rating** был бы нулевым. Это базовый пример заполнения, можно было заполнить нулевые значения средним значением по жанру или типу.\n",
    "\n",
    "### Понимание переменных\n",
    "\n",
    "Используя метод **.describe()**, можно получить сводку распределения непрерывных переменных:"
   ]
  },
  {
   "cell_type": "code",
   "execution_count": 159,
   "id": "622cf182-55cb-4743-8494-dceec13fca16",
   "metadata": {},
   "outputs": [
    {
     "data": {
      "text/html": [
       "<div>\n",
       "<style scoped>\n",
       "    .dataframe tbody tr th:only-of-type {\n",
       "        vertical-align: middle;\n",
       "    }\n",
       "\n",
       "    .dataframe tbody tr th {\n",
       "        vertical-align: top;\n",
       "    }\n",
       "\n",
       "    .dataframe thead th {\n",
       "        text-align: right;\n",
       "    }\n",
       "</style>\n",
       "<table border=\"1\" class=\"dataframe\">\n",
       "  <thead>\n",
       "    <tr style=\"text-align: right;\">\n",
       "      <th></th>\n",
       "      <th>anime_id</th>\n",
       "      <th>rating</th>\n",
       "      <th>members</th>\n",
       "    </tr>\n",
       "  </thead>\n",
       "  <tbody>\n",
       "    <tr>\n",
       "      <th>count</th>\n",
       "      <td>12294.000000</td>\n",
       "      <td>12294.000000</td>\n",
       "      <td>1.229400e+04</td>\n",
       "    </tr>\n",
       "    <tr>\n",
       "      <th>mean</th>\n",
       "      <td>14058.221653</td>\n",
       "      <td>6.473902</td>\n",
       "      <td>1.807134e+04</td>\n",
       "    </tr>\n",
       "    <tr>\n",
       "      <th>std</th>\n",
       "      <td>11455.294701</td>\n",
       "      <td>1.017096</td>\n",
       "      <td>5.482068e+04</td>\n",
       "    </tr>\n",
       "    <tr>\n",
       "      <th>min</th>\n",
       "      <td>1.000000</td>\n",
       "      <td>1.670000</td>\n",
       "      <td>5.000000e+00</td>\n",
       "    </tr>\n",
       "    <tr>\n",
       "      <th>25%</th>\n",
       "      <td>3484.250000</td>\n",
       "      <td>5.900000</td>\n",
       "      <td>2.250000e+02</td>\n",
       "    </tr>\n",
       "    <tr>\n",
       "      <th>50%</th>\n",
       "      <td>10260.500000</td>\n",
       "      <td>6.550000</td>\n",
       "      <td>1.550000e+03</td>\n",
       "    </tr>\n",
       "    <tr>\n",
       "      <th>75%</th>\n",
       "      <td>24794.500000</td>\n",
       "      <td>7.170000</td>\n",
       "      <td>9.437000e+03</td>\n",
       "    </tr>\n",
       "    <tr>\n",
       "      <th>max</th>\n",
       "      <td>34527.000000</td>\n",
       "      <td>10.000000</td>\n",
       "      <td>1.013917e+06</td>\n",
       "    </tr>\n",
       "  </tbody>\n",
       "</table>\n",
       "</div>"
      ],
      "text/plain": [
       "           anime_id        rating       members\n",
       "count  12294.000000  12294.000000  1.229400e+04\n",
       "mean   14058.221653      6.473902  1.807134e+04\n",
       "std    11455.294701      1.017096  5.482068e+04\n",
       "min        1.000000      1.670000  5.000000e+00\n",
       "25%     3484.250000      5.900000  2.250000e+02\n",
       "50%    10260.500000      6.550000  1.550000e+03\n",
       "75%    24794.500000      7.170000  9.437000e+03\n",
       "max    34527.000000     10.000000  1.013917e+06"
      ]
     },
     "execution_count": 159,
     "metadata": {},
     "output_type": "execute_result"
    }
   ],
   "source": [
    "df.describe()"
   ]
  },
  {
   "cell_type": "markdown",
   "id": "c440e7c8-29b4-4c93-b62c-b7002b29c7ad",
   "metadata": {},
   "source": [
    "Его можно также использовать для отдельной категории, чтобы получить количество строк, количество уникальных категорий, топовую категорию и ее частоту:"
   ]
  },
  {
   "cell_type": "code",
   "execution_count": 162,
   "id": "336428f6-4065-4bbd-8385-8c1ea794810a",
   "metadata": {},
   "outputs": [
    {
     "data": {
      "text/plain": [
       "count     12269\n",
       "unique        6\n",
       "top          TV\n",
       "freq       3787\n",
       "Name: type, dtype: object"
      ]
     },
     "execution_count": 162,
     "metadata": {},
     "output_type": "execute_result"
    }
   ],
   "source": [
    "df['type'].describe()"
   ]
  },
  {
   "cell_type": "markdown",
   "id": "661876e9-a34b-4a56-a06b-5ae0a064d32c",
   "metadata": {},
   "source": [
    "Это говорит нам о том, что у нас есть 6 уникальных категорий, топовая категоря *TV*, которая встречается 3787 раз (*freq*).  \n",
    "Функция **.value_counts()** позволяет определить частотность всех значений в столбце:"
   ]
  },
  {
   "cell_type": "code",
   "execution_count": 165,
   "id": "875da09a-4892-4832-9047-4367af336cf1",
   "metadata": {},
   "outputs": [
    {
     "data": {
      "text/plain": [
       "type\n",
       "TV         3787\n",
       "OVA        3311\n",
       "Movie      2348\n",
       "Special    1676\n",
       "ONA         659\n",
       "Music       488\n",
       "Name: count, dtype: int64"
      ]
     },
     "execution_count": 165,
     "metadata": {},
     "output_type": "execute_result"
    }
   ],
   "source": [
    "df['type'].value_counts()"
   ]
  },
  {
   "cell_type": "markdown",
   "id": "2565dd58-2de7-4638-a92a-0b6ea207e38a",
   "metadata": {},
   "source": [
    "### Получение данных по столбцам\n",
    "\n",
    "Выше мы уже получали отдельный столбец, используя квадратные скобки, в результате тип объекта был *Series*, для того, чтобы получить объект типа *DataFrame*, необходимо передать список имен столбцов:"
   ]
  },
  {
   "cell_type": "code",
   "execution_count": 168,
   "id": "77019696-8f4a-47af-9295-a8e8e2854476",
   "metadata": {},
   "outputs": [
    {
     "data": {
      "text/plain": [
       "pandas.core.frame.DataFrame"
      ]
     },
     "execution_count": 168,
     "metadata": {},
     "output_type": "execute_result"
    }
   ],
   "source": [
    "genre = df[['genre']]\n",
    "type(genre)"
   ]
  },
  {
   "cell_type": "markdown",
   "id": "a1227527-0e83-417a-b774-0d21e93a4425",
   "metadata": {},
   "source": [
    "Поскольку это просто список, то можем добавить еще элемент:"
   ]
  },
  {
   "cell_type": "code",
   "execution_count": 173,
   "id": "20b1feb9-939d-4693-b1d7-0058d29b4ec6",
   "metadata": {},
   "outputs": [
    {
     "data": {
      "text/html": [
       "<div>\n",
       "<style scoped>\n",
       "    .dataframe tbody tr th:only-of-type {\n",
       "        vertical-align: middle;\n",
       "    }\n",
       "\n",
       "    .dataframe tbody tr th {\n",
       "        vertical-align: top;\n",
       "    }\n",
       "\n",
       "    .dataframe thead th {\n",
       "        text-align: right;\n",
       "    }\n",
       "</style>\n",
       "<table border=\"1\" class=\"dataframe\">\n",
       "  <thead>\n",
       "    <tr style=\"text-align: right;\">\n",
       "      <th></th>\n",
       "      <th>name_japanese</th>\n",
       "      <th>genre</th>\n",
       "    </tr>\n",
       "  </thead>\n",
       "  <tbody>\n",
       "    <tr>\n",
       "      <th>0</th>\n",
       "      <td>Kimi no Na wa.</td>\n",
       "      <td>Drama, Romance, School, Supernatural</td>\n",
       "    </tr>\n",
       "    <tr>\n",
       "      <th>1</th>\n",
       "      <td>Fullmetal Alchemist: Brotherhood</td>\n",
       "      <td>Action, Adventure, Drama, Fantasy, Magic, Mili...</td>\n",
       "    </tr>\n",
       "    <tr>\n",
       "      <th>2</th>\n",
       "      <td>Gintama°</td>\n",
       "      <td>Action, Comedy, Historical, Parody, Samurai, S...</td>\n",
       "    </tr>\n",
       "    <tr>\n",
       "      <th>3</th>\n",
       "      <td>Steins;Gate</td>\n",
       "      <td>Sci-Fi, Thriller</td>\n",
       "    </tr>\n",
       "    <tr>\n",
       "      <th>4</th>\n",
       "      <td>Gintama&amp;#039;</td>\n",
       "      <td>Action, Comedy, Historical, Parody, Samurai, S...</td>\n",
       "    </tr>\n",
       "  </tbody>\n",
       "</table>\n",
       "</div>"
      ],
      "text/plain": [
       "                      name_japanese  \\\n",
       "0                    Kimi no Na wa.   \n",
       "1  Fullmetal Alchemist: Brotherhood   \n",
       "2                          Gintama°   \n",
       "3                       Steins;Gate   \n",
       "4                     Gintama&#039;   \n",
       "\n",
       "                                               genre  \n",
       "0               Drama, Romance, School, Supernatural  \n",
       "1  Action, Adventure, Drama, Fantasy, Magic, Mili...  \n",
       "2  Action, Comedy, Historical, Parody, Samurai, S...  \n",
       "3                                   Sci-Fi, Thriller  \n",
       "4  Action, Comedy, Historical, Parody, Samurai, S...  "
      ]
     },
     "execution_count": 173,
     "metadata": {},
     "output_type": "execute_result"
    }
   ],
   "source": [
    "sub_df = df[['name_japanese', 'genre']]\n",
    "sub_df.head()"
   ]
  },
  {
   "cell_type": "markdown",
   "id": "5cd68e30-75ab-41ff-85ee-e73f3cf60edf",
   "metadata": {},
   "source": [
    "### Получение данных по строкам\n",
    "\n",
    "Для этого есть 2 варианта:  \n",
    "- **.loc()** - определяет местоположение по имени \n",
    "- **.iloc()** - определяет местоположение по числовому индексу\n",
    "\n",
    "В силу особенностей конкретного набора данных, продемонстрируем 2 вариант:"
   ]
  },
  {
   "cell_type": "code",
   "execution_count": 176,
   "id": "5b5f6491-3536-4a9a-b763-bad99e389049",
   "metadata": {},
   "outputs": [
    {
     "data": {
      "text/plain": [
       "anime_id                                        32281\n",
       "name_japanese                          Kimi no Na wa.\n",
       "genre            Drama, Romance, School, Supernatural\n",
       "type                                            Movie\n",
       "episodes                                            1\n",
       "rating                                           9.37\n",
       "members                                        200630\n",
       "Name: 0, dtype: object"
      ]
     },
     "execution_count": 176,
     "metadata": {},
     "output_type": "execute_result"
    }
   ],
   "source": [
    "some = df.iloc[0]\n",
    "\n",
    "some"
   ]
  },
  {
   "cell_type": "markdown",
   "id": "a17567bf-5599-4dc0-b322-12223766a5a9",
   "metadata": {},
   "source": [
    "### Выборка по условиям\n",
    "\n",
    "В случае, когда нам необходимо выбрать строки удовлетворяющие каким-то условиям, то мы можем воспользоваться булевым условием:"
   ]
  },
  {
   "cell_type": "code",
   "execution_count": 179,
   "id": "31722374-b5eb-4a67-bb83-90d0cef79373",
   "metadata": {},
   "outputs": [
    {
     "data": {
      "text/html": [
       "<div>\n",
       "<style scoped>\n",
       "    .dataframe tbody tr th:only-of-type {\n",
       "        vertical-align: middle;\n",
       "    }\n",
       "\n",
       "    .dataframe tbody tr th {\n",
       "        vertical-align: top;\n",
       "    }\n",
       "\n",
       "    .dataframe thead th {\n",
       "        text-align: right;\n",
       "    }\n",
       "</style>\n",
       "<table border=\"1\" class=\"dataframe\">\n",
       "  <thead>\n",
       "    <tr style=\"text-align: right;\">\n",
       "      <th></th>\n",
       "      <th>anime_id</th>\n",
       "      <th>name_japanese</th>\n",
       "      <th>genre</th>\n",
       "      <th>type</th>\n",
       "      <th>episodes</th>\n",
       "      <th>rating</th>\n",
       "      <th>members</th>\n",
       "    </tr>\n",
       "  </thead>\n",
       "  <tbody>\n",
       "    <tr>\n",
       "      <th>0</th>\n",
       "      <td>32281</td>\n",
       "      <td>Kimi no Na wa.</td>\n",
       "      <td>Drama, Romance, School, Supernatural</td>\n",
       "      <td>Movie</td>\n",
       "      <td>1</td>\n",
       "      <td>9.37</td>\n",
       "      <td>200630</td>\n",
       "    </tr>\n",
       "    <tr>\n",
       "      <th>1</th>\n",
       "      <td>5114</td>\n",
       "      <td>Fullmetal Alchemist: Brotherhood</td>\n",
       "      <td>Action, Adventure, Drama, Fantasy, Magic, Mili...</td>\n",
       "      <td>TV</td>\n",
       "      <td>64</td>\n",
       "      <td>9.26</td>\n",
       "      <td>793665</td>\n",
       "    </tr>\n",
       "    <tr>\n",
       "      <th>2</th>\n",
       "      <td>28977</td>\n",
       "      <td>Gintama°</td>\n",
       "      <td>Action, Comedy, Historical, Parody, Samurai, S...</td>\n",
       "      <td>TV</td>\n",
       "      <td>51</td>\n",
       "      <td>9.25</td>\n",
       "      <td>114262</td>\n",
       "    </tr>\n",
       "    <tr>\n",
       "      <th>3</th>\n",
       "      <td>9253</td>\n",
       "      <td>Steins;Gate</td>\n",
       "      <td>Sci-Fi, Thriller</td>\n",
       "      <td>TV</td>\n",
       "      <td>24</td>\n",
       "      <td>9.17</td>\n",
       "      <td>673572</td>\n",
       "    </tr>\n",
       "    <tr>\n",
       "      <th>4</th>\n",
       "      <td>9969</td>\n",
       "      <td>Gintama&amp;#039;</td>\n",
       "      <td>Action, Comedy, Historical, Parody, Samurai, S...</td>\n",
       "      <td>TV</td>\n",
       "      <td>51</td>\n",
       "      <td>9.16</td>\n",
       "      <td>151266</td>\n",
       "    </tr>\n",
       "  </tbody>\n",
       "</table>\n",
       "</div>"
      ],
      "text/plain": [
       "   anime_id                     name_japanese  \\\n",
       "0     32281                    Kimi no Na wa.   \n",
       "1      5114  Fullmetal Alchemist: Brotherhood   \n",
       "2     28977                          Gintama°   \n",
       "3      9253                       Steins;Gate   \n",
       "4      9969                     Gintama&#039;   \n",
       "\n",
       "                                               genre   type episodes  rating  \\\n",
       "0               Drama, Romance, School, Supernatural  Movie        1    9.37   \n",
       "1  Action, Adventure, Drama, Fantasy, Magic, Mili...     TV       64    9.26   \n",
       "2  Action, Comedy, Historical, Parody, Samurai, S...     TV       51    9.25   \n",
       "3                                   Sci-Fi, Thriller     TV       24    9.17   \n",
       "4  Action, Comedy, Historical, Parody, Samurai, S...     TV       51    9.16   \n",
       "\n",
       "   members  \n",
       "0   200630  \n",
       "1   793665  \n",
       "2   114262  \n",
       "3   673572  \n",
       "4   151266  "
      ]
     },
     "execution_count": 179,
     "metadata": {},
     "output_type": "execute_result"
    }
   ],
   "source": [
    "df[df[\"rating\"] > 9.0].head()"
   ]
  },
  {
   "cell_type": "markdown",
   "id": "c2a02639-63c1-4bf0-ae11-768cf8994e3c",
   "metadata": {},
   "source": [
    "Можем применить более сложные условия, используя логические операторы **|** и **&**, обязательно добавлять (), без них не будет работать"
   ]
  },
  {
   "cell_type": "code",
   "execution_count": 182,
   "id": "e643efb7-2f32-458c-8b79-aab908dc356a",
   "metadata": {},
   "outputs": [
    {
     "data": {
      "text/html": [
       "<div>\n",
       "<style scoped>\n",
       "    .dataframe tbody tr th:only-of-type {\n",
       "        vertical-align: middle;\n",
       "    }\n",
       "\n",
       "    .dataframe tbody tr th {\n",
       "        vertical-align: top;\n",
       "    }\n",
       "\n",
       "    .dataframe thead th {\n",
       "        text-align: right;\n",
       "    }\n",
       "</style>\n",
       "<table border=\"1\" class=\"dataframe\">\n",
       "  <thead>\n",
       "    <tr style=\"text-align: right;\">\n",
       "      <th></th>\n",
       "      <th>anime_id</th>\n",
       "      <th>name_japanese</th>\n",
       "      <th>genre</th>\n",
       "      <th>type</th>\n",
       "      <th>episodes</th>\n",
       "      <th>rating</th>\n",
       "      <th>members</th>\n",
       "    </tr>\n",
       "  </thead>\n",
       "  <tbody>\n",
       "    <tr>\n",
       "      <th>0</th>\n",
       "      <td>32281</td>\n",
       "      <td>Kimi no Na wa.</td>\n",
       "      <td>Drama, Romance, School, Supernatural</td>\n",
       "      <td>Movie</td>\n",
       "      <td>1</td>\n",
       "      <td>9.37</td>\n",
       "      <td>200630</td>\n",
       "    </tr>\n",
       "    <tr>\n",
       "      <th>8</th>\n",
       "      <td>15335</td>\n",
       "      <td>Gintama Movie: Kanketsu-hen - Yorozuya yo Eien...</td>\n",
       "      <td>Action, Comedy, Historical, Parody, Samurai, S...</td>\n",
       "      <td>Movie</td>\n",
       "      <td>1</td>\n",
       "      <td>9.10</td>\n",
       "      <td>72534</td>\n",
       "    </tr>\n",
       "    <tr>\n",
       "      <th>11</th>\n",
       "      <td>28851</td>\n",
       "      <td>Koe no Katachi</td>\n",
       "      <td>Drama, School, Shounen</td>\n",
       "      <td>Movie</td>\n",
       "      <td>1</td>\n",
       "      <td>9.05</td>\n",
       "      <td>102733</td>\n",
       "    </tr>\n",
       "    <tr>\n",
       "      <th>9078</th>\n",
       "      <td>33607</td>\n",
       "      <td>Kahei no Umi</td>\n",
       "      <td>Historical</td>\n",
       "      <td>Movie</td>\n",
       "      <td>1</td>\n",
       "      <td>9.33</td>\n",
       "      <td>44</td>\n",
       "    </tr>\n",
       "    <tr>\n",
       "      <th>9595</th>\n",
       "      <td>23005</td>\n",
       "      <td>Mogura no Motoro</td>\n",
       "      <td>Slice of Life</td>\n",
       "      <td>Movie</td>\n",
       "      <td>1</td>\n",
       "      <td>9.50</td>\n",
       "      <td>62</td>\n",
       "    </tr>\n",
       "    <tr>\n",
       "      <th>10464</th>\n",
       "      <td>33662</td>\n",
       "      <td>Taka no Tsume 8: Yoshida-kun no X-Files</td>\n",
       "      <td>Comedy, Parody</td>\n",
       "      <td>Movie</td>\n",
       "      <td>1</td>\n",
       "      <td>10.00</td>\n",
       "      <td>13</td>\n",
       "    </tr>\n",
       "  </tbody>\n",
       "</table>\n",
       "</div>"
      ],
      "text/plain": [
       "       anime_id                                      name_japanese  \\\n",
       "0         32281                                     Kimi no Na wa.   \n",
       "8         15335  Gintama Movie: Kanketsu-hen - Yorozuya yo Eien...   \n",
       "11        28851                                     Koe no Katachi   \n",
       "9078      33607                                       Kahei no Umi   \n",
       "9595      23005                                   Mogura no Motoro   \n",
       "10464     33662            Taka no Tsume 8: Yoshida-kun no X-Files   \n",
       "\n",
       "                                                   genre   type episodes  \\\n",
       "0                   Drama, Romance, School, Supernatural  Movie        1   \n",
       "8      Action, Comedy, Historical, Parody, Samurai, S...  Movie        1   \n",
       "11                                Drama, School, Shounen  Movie        1   \n",
       "9078                                          Historical  Movie        1   \n",
       "9595                                       Slice of Life  Movie        1   \n",
       "10464                                     Comedy, Parody  Movie        1   \n",
       "\n",
       "       rating  members  \n",
       "0        9.37   200630  \n",
       "8        9.10    72534  \n",
       "11       9.05   102733  \n",
       "9078     9.33       44  \n",
       "9595     9.50       62  \n",
       "10464   10.00       13  "
      ]
     },
     "execution_count": 182,
     "metadata": {},
     "output_type": "execute_result"
    }
   ],
   "source": [
    "df[(df[\"rating\"] > 9.0) & (df[\"type\"] == \"Movie\")]"
   ]
  },
  {
   "cell_type": "markdown",
   "id": "10412b21-347f-4bc0-9b53-9512e1bdd7a4",
   "metadata": {},
   "source": [
    "## Заключение\n",
    "\n",
    "Мы рассмотрели самые базовые возможности библиотеки Pandas. Для более глубокого понимания следует погрузиться в документацию.   "
   ]
  }
 ],
 "metadata": {
  "kernelspec": {
   "display_name": "Python 3 (ipykernel)",
   "language": "python",
   "name": "python3"
  },
  "language_info": {
   "codemirror_mode": {
    "name": "ipython",
    "version": 3
   },
   "file_extension": ".py",
   "mimetype": "text/x-python",
   "name": "python",
   "nbconvert_exporter": "python",
   "pygments_lexer": "ipython3",
   "version": "3.12.4"
  }
 },
 "nbformat": 4,
 "nbformat_minor": 5
}
